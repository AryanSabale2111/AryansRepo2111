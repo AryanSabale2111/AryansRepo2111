{
 "cells": [
  {
   "cell_type": "code",
   "execution_count": 8,
   "id": "39163517-7c71-480e-8b6f-169cf923272c",
   "metadata": {},
   "outputs": [
    {
     "name": "stdout",
     "output_type": "stream",
     "text": [
      "✅ Model Performance:\n",
      "Mean Squared Error (MSE): 5.958720375450042e-08\n",
      "R-squared (R²): 0.9999989488410446\n"
     ]
    }
   ],
   "source": [
    "# 📦 Importing Required Libraries\n",
    "import pandas as pd\n",
    "import numpy as np  # for numerical data\n",
    "from sklearn.model_selection import train_test_split, GridSearchCV \n",
    "from sklearn.ensemble import RandomForestRegressor \n",
    "from sklearn.linear_model import LinearRegression\n",
    "from sklearn.preprocessing import StandardScaler\n",
    "from sklearn.metrics import mean_squared_error, r2_score\n",
    "\n",
    "# 📂 Load the Dataset\n",
    "df = pd.read_excel(\"SupplyChainEmissionFactorsforUSIndustriesCommodities.xlsx\", sheet_name=\"2010_Summary_Commodity\")\n",
    "\n",
    "# 🧹 Data Cleaning - Drop non-numeric and unnecessary columns\n",
    "df_cleaned = df.drop(columns=[\n",
    "    'Commodity Code', 'Commodity Name', 'Substance', 'Unit', 'Unnamed: 7'\n",
    "])\n",
    "\n",
    "# Remove rows with missing values\n",
    "df_cleaned = df_cleaned.dropna()\n",
    "\n",
    "# 🎯 Define Features and Target\n",
    "X = df_cleaned.drop(columns=['Supply Chain Emission Factors with Margins'])\n",
    "y = df_cleaned['Supply Chain Emission Factors with Margins']\n",
    "\n",
    "# 🔄 Standardize Features\n",
    "scaler = StandardScaler()\n",
    "X_scaled = scaler.fit_transform(X)\n",
    "\n",
    "# ✂️ Train-Test Split\n",
    "X_train, X_test, y_train, y_test = train_test_split(X_scaled, y, test_size=0.2, random_state=42)\n",
    "\n",
    "# 🧠 Train a Linear Regression Model\n",
    "model = LinearRegression()\n",
    "model.fit(X_train, y_train)\n",
    "\n",
    "# 📈 Make Predictions\n",
    "y_pred = model.predict(X_test)\n",
    "\n",
    "# 🧮 Evaluate the Model\n",
    "mse = mean_squared_error(y_test, y_pred)\n",
    "r2 = r2_score(y_test, y_pred)\n",
    "\n",
    "print(\"✅ Model Performance:\")\n",
    "print(\"Mean Squared Error (MSE):\", mse)\n",
    "print(\"R-squared (R²):\", r2)\n"
   ]
  },
  {
   "cell_type": "code",
   "execution_count": 9,
   "id": "649b6061-585a-48a6-a492-80dbd8515f2e",
   "metadata": {},
   "outputs": [
    {
     "name": "stdout",
     "output_type": "stream",
     "text": [
      "Best Parameters: {'max_depth': None, 'min_samples_split': 2, 'n_estimators': 200}\n"
     ]
    }
   ],
   "source": [
    "\n",
    "param_grid = {\n",
    "    'n_estimators': [100, 200],\n",
    "    'max_depth': [None, 10, 20],\n",
    "    'min_samples_split': [2, 5]\n",
    "}\n",
    "\n",
    "grid_search = GridSearchCV(RandomForestRegressor(random_state=42), param_grid, cv=3, n_jobs=-1)\n",
    "grid_search.fit(X_train, y_train)\n",
    "\n",
    "best_model = grid_search.best_estimator_\n",
    "print(\"Best Parameters:\", grid_search.best_params_)\n"
   ]
  },
  {
   "cell_type": "code",
   "execution_count": 10,
   "id": "4e728dce-ff2d-4de5-948d-3b8f361ddb44",
   "metadata": {},
   "outputs": [
    {
     "name": "stdout",
     "output_type": "stream",
     "text": [
      "Final RMSE: 0.03833279820605802\n",
      "Final R²: 0.9740787205134163\n"
     ]
    }
   ],
   "source": [
    "y_pred_best = best_model.predict(X_test)\n",
    "\n",
    "print(\"Final RMSE:\", np.sqrt(mean_squared_error(y_test, y_pred_best)))\n",
    "print(\"Final R²:\", r2_score(y_test, y_pred_best))"
   ]
  },
  {
   "cell_type": "code",
   "execution_count": 13,
   "id": "b8be6722-1c91-419e-a3f9-e3ff2b40d91e",
   "metadata": {},
   "outputs": [],
   "source": [
    "!mkdir models"
   ]
  },
  {
   "cell_type": "code",
   "execution_count": 14,
   "id": "1b98ff6f-c036-427a-955e-e1660ef49751",
   "metadata": {},
   "outputs": [
    {
     "data": {
      "text/plain": [
       "['models/scaler.pkl']"
      ]
     },
     "execution_count": 14,
     "metadata": {},
     "output_type": "execute_result"
    }
   ],
   "source": [
    "# Save model and encoders\n",
    "joblib.dump(best_model, 'models/final_model.pkl')   \n",
    "joblib.dump(scaler, 'models/scaler.pkl')\n"
   ]
  },
  {
   "cell_type": "code",
   "execution_count": null,
   "id": "68cdb12d-76d7-4c83-b53f-5f1f6626ee5c",
   "metadata": {},
   "outputs": [],
   "source": []
  }
 ],
 "metadata": {
  "kernelspec": {
   "display_name": "Python 3 (ipykernel)",
   "language": "python",
   "name": "python3"
  },
  "language_info": {
   "codemirror_mode": {
    "name": "ipython",
    "version": 3
   },
   "file_extension": ".py",
   "mimetype": "text/x-python",
   "name": "python",
   "nbconvert_exporter": "python",
   "pygments_lexer": "ipython3",
   "version": "3.13.5"
  }
 },
 "nbformat": 4,
 "nbformat_minor": 5
}
